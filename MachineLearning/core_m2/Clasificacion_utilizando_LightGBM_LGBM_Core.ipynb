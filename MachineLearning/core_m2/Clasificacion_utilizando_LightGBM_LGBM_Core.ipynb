{
 "cells": [],
 "metadata": {
  "kernelspec": {
   "display_name": "bootcamp_mitic",
   "language": "python",
   "name": "python3"
  },
  "language_info": {
   "name": "python",
   "version": "3.11.10"
  }
 },
 "nbformat": 4,
 "nbformat_minor": 2
}
